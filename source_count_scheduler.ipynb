{
 "cells": [
  {
   "cell_type": "code",
   "execution_count": 1,
   "metadata": {},
   "outputs": [],
   "source": [
    "import os,sys,time\n",
    "from collections import OrderedDict\n",
    "from aem_client import *\n",
    "import schedule\n",
    "import time"
   ]
  },
  {
   "cell_type": "code",
   "execution_count": 2,
   "metadata": {},
   "outputs": [],
   "source": [
    "domain = 'gain-insights'\n",
    "username = 'Unnathikr'\n",
    "password = 'moon@2000UNNAT'\n",
    "aem_machine_name = '7pdxcq2'\n"
   ]
  },
  {
   "cell_type": "code",
   "execution_count": 3,
   "metadata": {},
   "outputs": [],
   "source": [
    "import psycopg2\n",
    "conn = psycopg2.connect(\n",
    "   database=\"postgres\", user='postgres', password='moon@2000U', host='localhost', port= '5432')\n",
    "cursor = conn.cursor()\n",
    "conn.autocommit = True"
   ]
  },
  {
   "cell_type": "code",
   "execution_count": 4,
   "metadata": {},
   "outputs": [],
   "source": [
    "server = 'New Server'\n",
    "task = 'kafka'\n",
    "schema ='DES'\n",
    "table = '{}'\n"
   ]
  },
  {
   "cell_type": "code",
   "execution_count": 5,
   "metadata": {},
   "outputs": [],
   "source": [
    "def automated_source_counts():\n",
    "    domain_username = '{0}\\\\{1}'.format(domain,username)\n",
    "    username_password_str = str.encode('{0}:{1}'.format(domain_username,password))\n",
    "    b64_username_password = base64.b64encode(username_password_str).decode('ascii')\n",
    "    aem_client= AemClient(b64_username_password,aem_machine_name,port=443,url=\"https://7pdxcq2/attunityenterprisemanager\",\n",
    "                      verify_certificate = False,authentication_method=AuthenticationMethod.ACTIVE_DIRECTORY)\n",
    "    \n",
    "    res1 = aem_client.get_table_list(server,task,schema='',table='')\n",
    "\n",
    "    for i in range(len(res1.tablelist)):\n",
    "            res0= aem_client.get_table_statuses(server,task,schema='',table='{}'.format(res1.tablelist[i].table))\n",
    "            table='{}'.format(res1.tablelist[i].table)\n",
    "            schema='{}'.format(res1.tablelist[i].schema)\n",
    "            for t in res0.table_details:\n",
    "                # l=table,t.table_cdc_info.insert_count,t.table_cdc_info.update_count,t.table_cdc_info.delete_count\n",
    "                messageinserts=t.table_cdc_info.insert_count\n",
    "                messageupdates=t.table_cdc_info.update_count\n",
    "                messagedeletes=t.table_cdc_info.delete_count\n",
    "                activitydate=t.table_cdc_info.last_update_time\n",
    "                activitydatesplit = activitydate.split(\"T\")\n",
    "            update_query=\"UPDATE dataprocesslog SET message_insert_count = %s,message_update_count = %s,message_delete_count = %s where sourcetablename = %s and activity_date= %s\"\n",
    "            tablename=schema+'.'+table\n",
    "            cursor.execute(update_query,(messageinserts,messageupdates,messagedeletes,tablename,activitydatesplit[0]))\n",
    "    \n",
    "    \n",
    "\n"
   ]
  },
  {
   "cell_type": "code",
   "execution_count": 6,
   "metadata": {},
   "outputs": [
    {
     "ename": "KeyboardInterrupt",
     "evalue": "",
     "output_type": "error",
     "traceback": [
      "\u001b[1;31m---------------------------------------------------------------------------\u001b[0m",
      "\u001b[1;31mKeyboardInterrupt\u001b[0m                         Traceback (most recent call last)",
      "Cell \u001b[1;32mIn[6], line 4\u001b[0m\n\u001b[0;32m      2\u001b[0m \u001b[39mwhile\u001b[39;00m \u001b[39mTrue\u001b[39;00m:\n\u001b[0;32m      3\u001b[0m     schedule\u001b[39m.\u001b[39mrun_pending()\n\u001b[1;32m----> 4\u001b[0m     time\u001b[39m.\u001b[39;49msleep(\u001b[39m1\u001b[39;49m)\n",
      "\u001b[1;31mKeyboardInterrupt\u001b[0m: "
     ]
    }
   ],
   "source": [
    "schedule.every(4).hours.do(automated_source_counts)\n",
    "while True:\n",
    "    schedule.run_pending()\n",
    "    time.sleep(1)"
   ]
  },
  {
   "cell_type": "code",
   "execution_count": null,
   "metadata": {},
   "outputs": [],
   "source": []
  }
 ],
 "metadata": {
  "kernelspec": {
   "display_name": "Python 3",
   "language": "python",
   "name": "python3"
  },
  "language_info": {
   "codemirror_mode": {
    "name": "ipython",
    "version": 3
   },
   "file_extension": ".py",
   "mimetype": "text/x-python",
   "name": "python",
   "nbconvert_exporter": "python",
   "pygments_lexer": "ipython3",
   "version": "3.8.0"
  },
  "orig_nbformat": 4
 },
 "nbformat": 4,
 "nbformat_minor": 2
}
